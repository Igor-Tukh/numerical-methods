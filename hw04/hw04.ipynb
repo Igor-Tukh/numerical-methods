{
 "cells": [
  {
   "cell_type": "markdown",
   "metadata": {},
   "source": [
    "## 1)\n",
    "\n",
    "Точное значение интеграла мы вычислили в прошлом дз:\n",
    "\n",
    "$$\\int\\limits_{-1}^{5}\\frac{1}{1 + 9x^2}dx = \\bigg(\\frac{1}{3}\\cdot\\arctan{(3x)}\\bigg)\\bigg{|}_{-1}^{5}$$\n",
    "\n",
    "Для начала опишем все вспомогательные функции:"
   ]
  },
  {
   "cell_type": "code",
   "execution_count": 1,
   "metadata": {},
   "outputs": [],
   "source": [
    "import numpy as np\n",
    "\n",
    "def f(x):\n",
    "    return 1.0 / (1 + 9 * x ** 2)\n",
    "\n",
    "def get_antiderivative_value(point):\n",
    "    return np.arctan(3 * point) / 3\n",
    "\n",
    "def get_integral_value(lower, upper):\n",
    "    return get_antiderivative_value(upper) - get_antiderivative_value(lower)"
   ]
  },
  {
   "cell_type": "code",
   "execution_count": 2,
   "metadata": {},
   "outputs": [
    {
     "data": {
      "text/plain": [
       "0.9177579784724423"
      ]
     },
     "execution_count": 2,
     "metadata": {},
     "output_type": "execute_result"
    }
   ],
   "source": [
    "get_integral_value(-1, 5)"
   ]
  },
  {
   "cell_type": "markdown",
   "metadata": {},
   "source": [
    "Дальше мы будем исследовать все на итервале $[-1; 1]$ (потому что Многочлены Лежандра). Для этого сделаем замену переменных, чтобы исследуемый отрезок был $[-1; 1]$.\n",
    "\n",
    "$$\\int\\limits_{-1}^{5}  \\frac{1}{1 + 9x^2} dx = \\int\\limits_{-3}^{3} \\frac{1}{1 + 9(x + 2)^2} dx = \\int\\limits_{-1}^{1} \\frac{3}{1 + 9(3x+2)^2}dx$$\n",
    "\n",
    "Напишем функцию для нахождения значения новой функции в точке."
   ]
  },
  {
   "cell_type": "code",
   "execution_count": 95,
   "metadata": {},
   "outputs": [],
   "source": [
    "def get_function_value(x):\n",
    "    return 3.0 / (1 + 9 * (3 * x + 2) ** 2)"
   ]
  },
  {
   "cell_type": "markdown",
   "metadata": {},
   "source": [
    "Опишем функцию для метода секущих (просто реализуем то, что нужно, ничего интересного)"
   ]
  },
  {
   "cell_type": "code",
   "execution_count": 15,
   "metadata": {},
   "outputs": [],
   "source": [
    "def secant_method(start, func, eps):\n",
    "    x_0, x_1 = start\n",
    "    while True:\n",
    "        x_new = x_1 - func(x_1) * (x_1 - x_0) / (func(x_1) - func(x_0))\n",
    "        x_0, x_1 = x_1, x_new\n",
    "        if np.abs(func(x_1)) < eps:\n",
    "            break\n",
    "    return x_1"
   ]
  },
  {
   "cell_type": "markdown",
   "metadata": {},
   "source": [
    "Мы будем использовать перемежаемость корней, то есть будем считать их последовательно для многочленов последовательных степеней и брать начальные значения на отрезках на которые корни многочлена степени на один меньшей делят отрезок $[-1; 1]$."
   ]
  },
  {
   "cell_type": "code",
   "execution_count": 5,
   "metadata": {},
   "outputs": [],
   "source": [
    "from scipy.special import legendre"
   ]
  },
  {
   "cell_type": "code",
   "execution_count": 11,
   "metadata": {},
   "outputs": [],
   "source": [
    "def calulate_roots(max_degree, eps):\n",
    "    borders = [-1, 1]\n",
    "    roots = []\n",
    "    \n",
    "    for deg in range(1, max_degree + 1):\n",
    "        new_borders = [-1]\n",
    "        roots.append([])\n",
    "        for ind in range(deg):\n",
    "            lt = borders[ind]\n",
    "            rt = borders[ind + 1]\n",
    "            root = secant_method(((2 * lt + rt) / 3, (lt + 2 * rt) / 3), legendre(deg), eps)\n",
    "            roots[-1].append(root)\n",
    "            new_borders.append(root)\n",
    "        new_borders.append(1)\n",
    "        borders = new_borders\n",
    "    \n",
    "    return roots"
   ]
  },
  {
   "cell_type": "markdown",
   "metadata": {},
   "source": [
    "Позаимствуем из предыдущей домашки функцию для построения графиков"
   ]
  },
  {
   "cell_type": "code",
   "execution_count": 147,
   "metadata": {},
   "outputs": [],
   "source": [
    "import matplotlib.pyplot as plt\n",
    "\n",
    "def build_plot(xs, ys, xlabel='', ylabel='', title='', filename='plot', \n",
    "               plot_labels=None, color_shapes=None, points=None):\n",
    "    xs = np.array(xs)\n",
    "    ys = np.array(ys)\n",
    "    if xs.ndim == 1:\n",
    "        xs = np.array([xs])\n",
    "        ys = np.array([ys])\n",
    "    if color_shapes is None:\n",
    "        color_shapes = ['' for _ in range(xs.shape[0] if xs.ndim > 1 else 1)]\n",
    "    \n",
    "    plt.clf()\n",
    "    if points is not None:\n",
    "        plt.plot(points[0], points[1], 'ro')\n",
    "    plt.xlabel(xlabel)\n",
    "    plt.ylabel(ylabel)\n",
    "    plt.title(title)\n",
    "    for ind, (x, y) in enumerate(zip(xs, ys)):\n",
    "        if plot_labels is not None:\n",
    "            plt.plot(x, y, color_shapes[ind], label=plot_labels[ind])\n",
    "        else:\n",
    "            plt.plot(x, y, color_shapes[ind])\n",
    "    if plot_labels is not None:\n",
    "        plt.legend()\n",
    "    plt.show()"
   ]
  },
  {
   "cell_type": "markdown",
   "metadata": {},
   "source": [
    "Визуализируем значения в найденных корнях многочлена восьмой степени:"
   ]
  },
  {
   "cell_type": "code",
   "execution_count": 89,
   "metadata": {},
   "outputs": [
    {
     "name": "stdout",
     "output_type": "stream",
     "text": [
      "[-0.9602898564975638, -0.796666477394109, -0.5255324099163422, -0.1834346424957485, 0.18343464249615782, 0.5255324099213233, 0.7966664772540665, 0.9602898564986869]\n"
     ]
    },
    {
     "data": {
      "image/png": "[encoded data removed]",
      "text/plain": [
       "<Figure size 432x288 with 1 Axes>"
      ]
     },
     "metadata": {
      "needs_background": "light"
     },
     "output_type": "display_data"
    }
   ],
   "source": [
    "roots = calulate_roots(8, 1e-9)[-1]\n",
    "leg = legendre(8)\n",
    "xs = list(np.arange(-1, 1, 1e-5))\n",
    "print(roots)\n",
    "build_plot([xs, xs], [[leg(x) for x in xs], [0 for _ in xs]],\n",
    "          'x', 'Leg(x)', 'Visualization of roots', points=(roots, [leg(root) for root in roots]))"
   ]
  },
  {
   "cell_type": "markdown",
   "metadata": {},
   "source": [
    "Как видно, корни находятся. Теперь вернемся к базовой задаче."
   ]
  },
  {
   "cell_type": "markdown",
   "metadata": {},
   "source": [
    "Во-первых, скопируем из предыдущего дз составную формулу Симпсона."
   ]
  },
  {
   "cell_type": "code",
   "execution_count": 101,
   "metadata": {},
   "outputs": [],
   "source": [
    "def get_simpson_value(lower, upper, number_of_intervals, func):\n",
    "    H = np.longdouble(upper - lower) / number_of_intervals\n",
    "    total_sum = np.longdouble(0)\n",
    "    for ind in range(2 * number_of_intervals + 1):\n",
    "        current_point = lower + ind * H / 2\n",
    "        coef = 1 if ind == 0 else 1 if ind == 2 * number_of_intervals else 2 if ind % 2 == 0 else 4\n",
    "        total_sum += coef * func(current_point)\n",
    "    return total_sum * H / 6"
   ]
  },
  {
   "cell_type": "markdown",
   "metadata": {},
   "source": [
    "Убедимся, что мы значение интеграла правильное (с точностью до погрешности):"
   ]
  },
  {
   "cell_type": "code",
   "execution_count": 124,
   "metadata": {},
   "outputs": [
    {
     "data": {
      "text/plain": [
       "0.9177579784724424117"
      ]
     },
     "execution_count": 124,
     "metadata": {},
     "output_type": "execute_result"
    }
   ],
   "source": [
    "get_simpson_value(-1, 1, 10**6, get_function_value)"
   ]
  },
  {
   "cell_type": "markdown",
   "metadata": {},
   "source": [
    "Ага, значение то.\n",
    "\n",
    "Для начала, нам нужно посчитать веса (для этого просто реализуем то, что нужно, ничего хитрого):"
   ]
  },
  {
   "cell_type": "code",
   "execution_count": 104,
   "metadata": {},
   "outputs": [],
   "source": [
    "def get_value(point, i, xs):\n",
    "    xi = xs[i]\n",
    "    result = 1.0\n",
    "    for k, xk in enumerate(xs):\n",
    "        if k != i:\n",
    "            result *= (point - xk) / (xi - xk)\n",
    "    return result"
   ]
  },
  {
   "cell_type": "code",
   "execution_count": 129,
   "metadata": {},
   "outputs": [],
   "source": [
    "def get_weights(n, lower=-1, upper=1, intervals_number=10000, eps=1e-9):\n",
    "    roots = calulate_roots(n, eps)[-1]\n",
    "    return [get_simpson_value(lower, upper, intervals_number, lambda x: get_value(x, i, roots)) \n",
    "            for i in range(n)]"
   ]
  },
  {
   "cell_type": "markdown",
   "metadata": {},
   "source": [
    "Далее, сравним посчитаые веса с весами из `numpy`"
   ]
  },
  {
   "cell_type": "code",
   "execution_count": 119,
   "metadata": {},
   "outputs": [
    {
     "data": {
      "text/plain": [
       "[0.06667134430389499443,\n",
       " 0.14945134916733538199,\n",
       " 0.21908636248347762229,\n",
       " 0.26926671936354709002,\n",
       " 0.29552422463087321878,\n",
       " 0.2955242248492767952,\n",
       " 0.26926671907564262123,\n",
       " 0.21908636255700615615,\n",
       " 0.14945134928990753627,\n",
       " 0.066671344279038366794]"
      ]
     },
     "execution_count": 119,
     "metadata": {},
     "output_type": "execute_result"
    }
   ],
   "source": [
    "get_weights(10)"
   ]
  },
  {
   "cell_type": "code",
   "execution_count": 121,
   "metadata": {},
   "outputs": [
    {
     "name": "stdout",
     "output_type": "stream",
     "text": [
      "[0.06667134 0.14945135 0.21908636 0.26926672 0.29552422 0.29552422\n",
      " 0.26926672 0.21908636 0.14945135 0.06667134]\n"
     ]
    }
   ],
   "source": [
    "print(np.polynomial.legendre.leggauss(10)[1])"
   ]
  },
  {
   "cell_type": "markdown",
   "metadata": {},
   "source": [
    "Видим, что мы посчитали правильные (по крайней мере, сходящиеся с `numpy`) значения весов."
   ]
  },
  {
   "cell_type": "markdown",
   "metadata": {},
   "source": [
    "Теперь опишем функцию для подсчета интеграла с помошью формулы Гаусса."
   ]
  },
  {
   "cell_type": "code",
   "execution_count": 138,
   "metadata": {},
   "outputs": [],
   "source": [
    "def get_g_value(lower=-1, upper=1, n=50, func=get_function_value, eps=1e-9):\n",
    "    roots = calulate_roots(n, eps)[-1]\n",
    "    weights = get_weights(n, lower, upper)\n",
    "    return sum([w * func(x) for x, w in zip(roots, weights)])"
   ]
  },
  {
   "cell_type": "code",
   "execution_count": 145,
   "metadata": {},
   "outputs": [
    {
     "data": {
      "text/plain": [
       "0.9177586203988930678"
      ]
     },
     "execution_count": 145,
     "metadata": {},
     "output_type": "execute_result"
    }
   ],
   "source": [
    "get_g_value(n=50)"
   ]
  },
  {
   "cell_type": "markdown",
   "metadata": {},
   "source": [
    "Теперь построим интересующие нас графики погрешности (возможно, в разных масштабах)."
   ]
  },
  {
   "cell_type": "code",
   "execution_count": 148,
   "metadata": {},
   "outputs": [
    {
     "data": {
      "image/png": "[encoded data removed]",
      "text/plain": [
       "<Figure size 432x288 with 1 Axes>"
      ]
     },
     "metadata": {
      "needs_background": "light"
     },
     "output_type": "display_data"
    }
   ],
   "source": [
    "integral_value = get_integral_value(-1, 5)\n",
    "xs = [range(1, 50, 1), range(1, 50, 1)]\n",
    "ys = [[np.log(np.abs(integral_value - get_simpson_value(-1, 1, n, get_function_value))) for n in xs[0]], \n",
    "      [np.log(np.abs(integral_value - get_g_value(-1, 1, n, get_function_value))) for n in xs[1]]]\n",
    "\n",
    "build_plot(xs, ys, 'n', 'Логарифм погрешности', 'Погрешности методов',\n",
    "          plot_labels = ['Составной метод Симпсона', 'Формула Гаусса'])"
   ]
  },
  {
   "cell_type": "markdown",
   "metadata": {},
   "source": [
    "Мы наблюдаем достаточно интересные результаты.\n",
    "* Логарифм погрешности в формуле Гаусса видеть себя как линейная функция (есть сгладить). То есть погрешность эксопненционально убывает.\n",
    "* В данном случае Гаусс дает худший результат, чем Симпсон.\n",
    "* Абсолютное значение погрешности достаточно мало уже при n=50. Я бы сгенерировал больше значений, но это не очень быстро, а тенденция та же."
   ]
  }
 ],
 "metadata": {
  "kernelspec": {
   "display_name": "Python 3",
   "language": "python",
   "name": "python3"
  },
  "language_info": {
   "codemirror_mode": {
    "name": "ipython",
    "version": 3
   },
   "file_extension": ".py",
   "mimetype": "text/x-python",
   "name": "python",
   "nbconvert_exporter": "python",
   "pygments_lexer": "ipython3",
   "version": "3.5.2"
  }
 },
 "nbformat": 4,
 "nbformat_minor": 2
}
