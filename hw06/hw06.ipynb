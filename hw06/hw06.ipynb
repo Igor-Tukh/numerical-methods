{
 "cells": [
  {
   "cell_type": "markdown",
   "metadata": {},
   "source": [
    "## 9)\n",
    "\n",
    "$e_k = x^{k - 1}$, поэтому несложно посчитать скалярное произведение:\n",
    "\n",
    "$$\\langle e_i, e_j \\rangle = \\int\\limits_{0}^{1}x^{i + j - 2}dx = \\frac{1}{i + j - 1}$$\n",
    "\n",
    "Отсюда, найдем матрицу Грама (Гильберта)."
   ]
  },
  {
   "cell_type": "code",
   "execution_count": 5,
   "metadata": {},
   "outputs": [],
   "source": [
    "import numpy as np\n",
    "\n",
    "def get_matrix(n):\n",
    "    ns = range(1, n + 1)\n",
    "    matrix = []\n",
    "    for i in ns:\n",
    "        matrix.append([])\n",
    "        for j in ns:\n",
    "            matrix[-1].append(1.0 / (i + j - 1))\n",
    "    return np.array(matrix)"
   ]
  },
  {
   "cell_type": "code",
   "execution_count": 6,
   "metadata": {},
   "outputs": [
    {
     "data": {
      "text/plain": [
       "array([[1.        , 0.5       , 0.33333333, 0.25      , 0.2       ],\n",
       "       [0.5       , 0.33333333, 0.25      , 0.2       , 0.16666667],\n",
       "       [0.33333333, 0.25      , 0.2       , 0.16666667, 0.14285714],\n",
       "       [0.25      , 0.2       , 0.16666667, 0.14285714, 0.125     ],\n",
       "       [0.2       , 0.16666667, 0.14285714, 0.125     , 0.11111111]])"
      ]
     },
     "execution_count": 6,
     "metadata": {},
     "output_type": "execute_result"
    }
   ],
   "source": [
    "get_matrix(5)"
   ]
  },
  {
   "cell_type": "markdown",
   "metadata": {},
   "source": [
    "Классическая функция для построения графиков:"
   ]
  },
  {
   "cell_type": "code",
   "execution_count": 7,
   "metadata": {},
   "outputs": [],
   "source": [
    "import matplotlib.pyplot as plt\n",
    "\n",
    "def build_plot(xs, ys, xlabel='', ylabel='', title='', filename='plot', \n",
    "               plot_labels=None, color_shapes=None, points=None):\n",
    "    xs = np.array(xs)\n",
    "    ys = np.array(ys)\n",
    "    if xs.ndim == 1:\n",
    "        xs = np.array([xs])\n",
    "        ys = np.array([ys])\n",
    "    if color_shapes is None:\n",
    "        color_shapes = ['' for _ in range(xs.shape[0] if xs.ndim > 1 else 1)]\n",
    "    \n",
    "    plt.clf()\n",
    "    if points is not None:\n",
    "        plt.plot(points[0], points[1], 'ro')\n",
    "    plt.xlabel(xlabel)\n",
    "    plt.ylabel(ylabel)\n",
    "    plt.title(title)\n",
    "    for ind, (x, y) in enumerate(zip(xs, ys)):\n",
    "        if plot_labels is not None:\n",
    "            plt.plot(x, y, color_shapes[ind], label=plot_labels[ind])\n",
    "        else:\n",
    "            plt.plot(x, y, color_shapes[ind])\n",
    "    if plot_labels is not None:\n",
    "        plt.legend()\n",
    "    plt.show()"
   ]
  },
  {
   "cell_type": "markdown",
   "metadata": {},
   "source": [
    "Реализаем функцию для вычисления скалярного произведения двух векторов в нашем базисе."
   ]
  },
  {
   "cell_type": "code",
   "execution_count": 13,
   "metadata": {},
   "outputs": [],
   "source": [
    "def dot_product(first, second):\n",
    "    n = first.shape[0]\n",
    "    A = get_matrix(n)\n",
    "    ans = 0\n",
    "    for i, f in enumerate(first):\n",
    "        for j, s in enumerate(second):\n",
    "            ans += f * s * A[i][j]\n",
    "    return ans"
   ]
  },
  {
   "cell_type": "code",
   "execution_count": 15,
   "metadata": {},
   "outputs": [
    {
     "data": {
      "text/plain": [
       "2.3333333333333335"
      ]
     },
     "execution_count": 15,
     "metadata": {},
     "output_type": "execute_result"
    }
   ],
   "source": [
    "dot_product(np.array([1.0, 1.0]), np.array([1.0, 1.0]))"
   ]
  },
  {
   "cell_type": "code",
   "execution_count": 45,
   "metadata": {},
   "outputs": [],
   "source": [
    "def get_max_eigenvalue(n, iters_num=1000):\n",
    "    u = np.array([1.0 / np.sqrt(n) for _ in range(n)])\n",
    "    A = get_matrix(n)\n",
    "    prev_u = np.zeros(n)\n",
    "    \n",
    "    for iter_num in range(iters_num):\n",
    "        norm = np.linalg.norm(u)\n",
    "        if norm > 10**9:\n",
    "            u = u / norm\n",
    "        prev_u = u.copy()\n",
    "        u = np.dot(A, u)\n",
    "    \n",
    "    return dot_product(u, prev_u) / dot_product(prev_u, prev_u)"
   ]
  },
  {
   "cell_type": "markdown",
   "metadata": {},
   "source": [
    "Сравним получаенное значение со значением, которое умеет находить `numpy.linalg`"
   ]
  },
  {
   "cell_type": "code",
   "execution_count": 46,
   "metadata": {},
   "outputs": [
    {
     "name": "stdout",
     "output_type": "stream",
     "text": [
      "1.567050691098231 1.56705069109823\n"
     ]
    }
   ],
   "source": [
    "from numpy import linalg as linalg\n",
    "\n",
    "N = 5\n",
    "\n",
    "values, _ = linalg.eig(get_matrix(N))\n",
    "values.sort()\n",
    "print(get_max_eigenvalue(N), values[-1])"
   ]
  },
  {
   "cell_type": "markdown",
   "metadata": {},
   "source": [
    "Построим график зависимости погрешности от числа итераций для $N = 10$ (тут мы возьмем значение из `np.linalg` за эталон, хотя это не посчитанное аналитически значение. Просто предположив, что оно вычисленно достаточно точно, и посмотрим на скорось сходимости):"
   ]
  },
  {
   "cell_type": "code",
   "execution_count": 57,
   "metadata": {},
   "outputs": [
    {
     "name": "stdout",
     "output_type": "stream",
     "text": [
      "[1.09325101e-13 2.26674535e-11 2.14743883e-09 1.22896774e-07\n",
      " 4.72968929e-06 1.28749614e-04 2.53089077e-03 3.57418163e-02\n",
      " 3.42929548e-01 1.75191967e+00]\n"
     ]
    },
    {
     "data": {
      "image/png": "[encoded data removed]",
      "text/plain": [
       "<Figure size 432x288 with 1 Axes>"
      ]
     },
     "metadata": {
      "needs_background": "light"
     },
     "output_type": "display_data"
    }
   ],
   "source": [
    "from numpy import linalg as linalg\n",
    "\n",
    "N = 10\n",
    "\n",
    "values, _ = linalg.eig(get_matrix(N))\n",
    "values.sort()\n",
    "print(values)\n",
    "\n",
    "iter_nums = range(1, 10)\n",
    "\n",
    "build_plot(iter_nums, [np.log(np.abs(values[-1] - get_max_eigenvalue(N, iter_num))) for iter_num in iter_nums], \n",
    "           'Число итераций',\n",
    "           'Логарифм числа итераций',\n",
    "           'Зависимость погрешности от числа итераций')"
   ]
  },
  {
   "cell_type": "markdown",
   "metadata": {},
   "source": [
    "В данном случае мы очень быстро получаем очень маленькую погрешность (экспоненциально убывающую). Это соответствует теоретической оценке $\\mathcal{O}(\\frac{\\lambda_{p + 1}}{\\lambda_1})$, в данном случае это частное очень, так что быстрая сходимость ожидаема."
   ]
  },
  {
   "cell_type": "code",
   "execution_count": null,
   "metadata": {},
   "outputs": [],
   "source": [
    "Далее будем искать минимальное собственное число. Мы знаем, что наша матрица Грама симметричная."
   ]
  }
 ],
 "metadata": {
  "kernelspec": {
   "display_name": "Python 3",
   "language": "python",
   "name": "python3"
  },
  "language_info": {
   "codemirror_mode": {
    "name": "ipython",
    "version": 3
   },
   "file_extension": ".py",
   "mimetype": "text/x-python",
   "name": "python",
   "nbconvert_exporter": "python",
   "pygments_lexer": "ipython3",
   "version": "3.5.2"
  }
 },
 "nbformat": 4,
 "nbformat_minor": 2
}
