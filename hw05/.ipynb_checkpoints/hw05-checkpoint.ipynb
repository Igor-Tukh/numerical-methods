{
 "cells": [
  {
   "cell_type": "markdown",
   "metadata": {},
   "source": [
    "## 7)\n",
    "\n",
    "\n",
    "Для начала, нам нужно решить задачу аналитически."
   ]
  },
  {
   "cell_type": "markdown",
   "metadata": {},
   "source": [
    "$$-u''(x) + u(x) = x,\\;\\;0 \\leqslant x \\leqslant 1,\\;\\;u(0) = u(1) = 0$$"
   ]
  },
  {
   "cell_type": "markdown",
   "metadata": {},
   "source": [
    "Рассмотрим соответствующее однородное уравнение.\n",
    "\n",
    "$$-u''(x) + u(x) = 0$$\n",
    "\n",
    "$$x^2 - 1 = 0$$\n",
    "\n",
    "Корни $x \\in \\{-1, 1\\}$, оба кратности один.\n",
    "\n",
    "Тогда общее решение имеет вид $$c_1 e^{x} + c_2 e^{-x}$$"
   ]
  },
  {
   "cell_type": "markdown",
   "metadata": {},
   "source": [
    "Возвращаемся к исходному неоднородному."
   ]
  },
  {
   "cell_type": "markdown",
   "metadata": {},
   "source": [
    "Рассмотрим частное решение $u(x) = x$ неоднородного уравнения \n",
    "\n",
    "$$-u''(x) + u(x) = x$$\n",
    "\n",
    "Мы можем получть общее решение неоднородного урванения как сумму общего решения однородного и частного решения неоднородного, тем самым общее решение неоднородного имеет вид:\n",
    "\n",
    "$$c_1 e^{x} + c_2 e^{-x} + x$$"
   ]
  },
  {
   "cell_type": "markdown",
   "metadata": {},
   "source": [
    "Осталось подобрать константы (подставим точки x = 0, x = 1):\n",
    "\n",
    "\\begin{equation*}\n",
    "\\begin{cases}\n",
    "c_1 + c_2 = 0 \\\\\n",
    "c_1 e + \\frac{c_2}{e} = -1\n",
    "\\end{cases}\n",
    "\\Leftrightarrow\n",
    "\\begin{cases}\n",
    "c_2 = -c_1 \\\\\n",
    "c_1 e + \\frac{c_2}{e} = -1\n",
    "\\end{cases}\n",
    "\\Leftrightarrow\n",
    "\\begin{cases}\n",
    "c_1 = \\frac{1}{\\frac{1}{e} - e} \\\\\n",
    "c_2 = \\frac{-1}{\\frac{1}{e} - e}\n",
    "\\end{cases}\n",
    "\\end{equation*}"
   ]
  },
  {
   "cell_type": "markdown",
   "metadata": {},
   "source": [
    "Итого:\n",
    "    \n",
    "$$u(x) = \\frac{1}{\\frac{1}{e} - e} \\cdot (e^x - e^{-x}) + x = \\frac{e \\cdot (e^{x} - e^{-x})}{1 - e^2} + x$$\n",
    "\n",
    "Теперь опишем функцию для нахождения точного решения:"
   ]
  },
  {
   "cell_type": "code",
   "execution_count": 37,
   "metadata": {},
   "outputs": [],
   "source": [
    "import numpy as np\n",
    "\n",
    "def get_u(x):\n",
    "    return x + (np.exp(1 + x) - np.exp(1 - x)) / (1 - np.exp(2))"
   ]
  },
  {
   "cell_type": "markdown",
   "metadata": {},
   "source": [
    "Теперь опишем функции для нахождения $A$ и $b$ (мы помним, что $u(0) = u(1) = 0$, а стало быть \n",
    "\n",
    "$$u(x_0) = u(x_{N + 1}) = 0$$ \n",
    "\n",
    "и матрица $A$ действительно будет трехдиагональной)."
   ]
  },
  {
   "cell_type": "code",
   "execution_count": 40,
   "metadata": {},
   "outputs": [],
   "source": [
    "def get_A(N):\n",
    "    h = 1.0 / (N + 1)\n",
    "    A = []\n",
    "    for i in range(N):\n",
    "        current = []\n",
    "        for j in range(i - 1):\n",
    "            current.append(0)\n",
    "        if i > 0:\n",
    "            current.append(-h**(-2))\n",
    "        current.append(2 * h**(-2) + 1)\n",
    "        if i < N - 1:\n",
    "            current.append(-h**(-2))\n",
    "        for j in range(N - i - 2):\n",
    "            current.append(0)\n",
    "        A.append(current)\n",
    "    return np.array(A)"
   ]
  },
  {
   "cell_type": "code",
   "execution_count": 41,
   "metadata": {},
   "outputs": [
    {
     "data": {
      "text/plain": [
       "array([[ 51., -25.,   0.,   0.],\n",
       "       [-25.,  51., -25.,   0.],\n",
       "       [  0., -25.,  51., -25.],\n",
       "       [  0.,   0., -25.,  51.]])"
      ]
     },
     "execution_count": 41,
     "metadata": {},
     "output_type": "execute_result"
    }
   ],
   "source": [
    "get_A(4)"
   ]
  },
  {
   "cell_type": "code",
   "execution_count": 7,
   "metadata": {},
   "outputs": [],
   "source": [
    "def get_b(N):\n",
    "    h = 1.0 / (N + 1)\n",
    "    return np.array([h * i for i in range(1, N + 1)])"
   ]
  },
  {
   "cell_type": "code",
   "execution_count": 26,
   "metadata": {},
   "outputs": [
    {
     "data": {
      "text/plain": [
       "array([0.2, 0.4, 0.6, 0.8])"
      ]
     },
     "execution_count": 26,
     "metadata": {},
     "output_type": "execute_result"
    }
   ],
   "source": [
    "get_b(4)"
   ]
  },
  {
   "cell_type": "markdown",
   "metadata": {},
   "source": [
    "В качестве стандартного способа решать СЛАУ рассмотрим numpy.linalg.solve.\n",
    "Также скопируем функцию для постороения графиков из предыдущих домашек."
   ]
  },
  {
   "cell_type": "code",
   "execution_count": 9,
   "metadata": {},
   "outputs": [],
   "source": [
    "import matplotlib.pyplot as plt\n",
    "\n",
    "def build_plot(xs, ys, xlabel='', ylabel='', title='', filename='plot', \n",
    "               plot_labels=None, color_shapes=None, points=None):\n",
    "    xs = np.array(xs)\n",
    "    ys = np.array(ys)\n",
    "    if xs.ndim == 1:\n",
    "        xs = np.array([xs])\n",
    "        ys = np.array([ys])\n",
    "    if color_shapes is None:\n",
    "        color_shapes = ['' for _ in range(xs.shape[0] if xs.ndim > 1 else 1)]\n",
    "    \n",
    "    plt.clf()\n",
    "    if points is not None:\n",
    "        plt.plot(points[0], points[1], 'ro')\n",
    "    plt.xlabel(xlabel)\n",
    "    plt.ylabel(ylabel)\n",
    "    plt.title(title)\n",
    "    for ind, (x, y) in enumerate(zip(xs, ys)):\n",
    "        if plot_labels is not None:\n",
    "            plt.plot(x, y, color_shapes[ind], label=plot_labels[ind])\n",
    "        else:\n",
    "            plt.plot(x, y, color_shapes[ind])\n",
    "    if plot_labels is not None:\n",
    "        plt.legend()\n",
    "    plt.show()"
   ]
  },
  {
   "cell_type": "code",
   "execution_count": 42,
   "metadata": {},
   "outputs": [],
   "source": [
    "def get_u_vector_standart_solver(N):\n",
    "    A = get_A(N)\n",
    "    b = get_b(N)\n",
    "    return np.linalg.solve(A, b)\n",
    "\n",
    "def get_u_vector(N):\n",
    "    h = 1.0 / (N + 1)\n",
    "    return np.array([get_u(h * i) for i in range(1, N + 1)])"
   ]
  },
  {
   "cell_type": "markdown",
   "metadata": {},
   "source": [
    "Построим график зависимости погрешшности от $N$. Погрешность будем рассматривать, как максимум погрешности в точках $x_i$."
   ]
  },
  {
   "cell_type": "code",
   "execution_count": 44,
   "metadata": {},
   "outputs": [
    {
     "data": {
      "image/png": "[encoded data removed]",
      "text/plain": [
       "<Figure size 432x288 with 1 Axes>"
      ]
     },
     "metadata": {
      "needs_background": "light"
     },
     "output_type": "display_data"
    }
   ],
   "source": [
    "Ns = range(1, 101)\n",
    "build_plot(Ns, [np.amax(np.abs(get_u_vector_standart_solver(N) - get_u_vector(N))) for N in Ns], \n",
    "           'N', 'Погрешность', 'Зависимость погрешности от N')"
   ]
  },
  {
   "cell_type": "markdown",
   "metadata": {},
   "source": [
    "Реализуем метод прогонки.\n",
    "\n",
    "Для начала, заметим, что в нашем случае \n",
    "\n",
    "$$2h^{-2} + 1 = |c_i| > |a_i| + |b_i| = 2h^2,$$ \n",
    "\n",
    "то есть выполняется достаточное условие разрешимости прогонки."
   ]
  },
  {
   "cell_type": "code",
   "execution_count": 50,
   "metadata": {},
   "outputs": [],
   "source": [
    "def tridiagonal_algo_solver(a, b, c, d):\n",
    "    N = len(a)\n",
    "    alphas = [b[0] / c[0]]\n",
    "    betas = [d[0] / c[0]]\n",
    "    for i in range(N - 1):\n",
    "        alphas.append(b[i + 1] / (c[i + 1] - alphas[-1] * a[i + 1]))\n",
    "        betas.append((d[i + 1] + betas[-1] * a[i + 1]) / (c[i + 1] - alphas[-1] * a[i + 1]))\n",
    "    ans = [0 for _ in N]\n",
    "    ans[N - 1] = betas[-1]\n",
    "    for i in range(N - 2, -1, -1):\n",
    "        ans[i] = ans[i + 1] * alphas[i] + betas[i]\n",
    "    return np.array(ans)"
   ]
  },
  {
   "cell_type": "code",
   "execution_count": 52,
   "metadata": {},
   "outputs": [],
   "source": [
    "def get_u_vector_tridiagonal_algo_solver(N):\n",
    "    h = 1.0 / (N + 1)\n",
    "    a = [-h**(-2) for _ in range(N)]\n",
    "    b = [-h**(-2) for _ in range(N)]\n",
    "    c = [2 * h**(-2) + 1 for _ in range(N)]\n",
    "    d = get_b(N)\n",
    "    return tridiagonal_algo_solver(a, b, c, d)"
   ]
  },
  {
   "cell_type": "markdown",
   "metadata": {},
   "source": [
    "Построим график зависимости погрешности от $N$"
   ]
  },
  {
   "cell_type": "code",
   "execution_count": 54,
   "metadata": {},
   "outputs": [
    {
     "ename": "TypeError",
     "evalue": "'int' object is not iterable",
     "output_type": "error",
     "traceback": [
      "\u001b[0;31m---------------------------------------------------------------------------\u001b[0m",
      "\u001b[0;31mTypeError\u001b[0m                                 Traceback (most recent call last)",
      "\u001b[0;32m<ipython-input-54-aec99de51244>\u001b[0m in \u001b[0;36m<module>\u001b[0;34m\u001b[0m\n\u001b[1;32m      1\u001b[0m \u001b[0mNs\u001b[0m \u001b[0;34m=\u001b[0m \u001b[0mrange\u001b[0m\u001b[0;34m(\u001b[0m\u001b[0;36m1\u001b[0m\u001b[0;34m,\u001b[0m \u001b[0;36m101\u001b[0m\u001b[0;34m)\u001b[0m\u001b[0;34m\u001b[0m\u001b[0m\n\u001b[0;32m----> 2\u001b[0;31m build_plot(Ns, [np.amax(np.abs(get_u_vector_tridiagonal_algo_solver(N) - get_u_vector(N))) for N in Ns], \n\u001b[0m\u001b[1;32m      3\u001b[0m            'N', 'Погрешность', 'Зависимость погрешности от N')\n",
      "\u001b[0;32m<ipython-input-54-aec99de51244>\u001b[0m in \u001b[0;36m<listcomp>\u001b[0;34m(.0)\u001b[0m\n\u001b[1;32m      1\u001b[0m \u001b[0mNs\u001b[0m \u001b[0;34m=\u001b[0m \u001b[0mrange\u001b[0m\u001b[0;34m(\u001b[0m\u001b[0;36m1\u001b[0m\u001b[0;34m,\u001b[0m \u001b[0;36m101\u001b[0m\u001b[0;34m)\u001b[0m\u001b[0;34m\u001b[0m\u001b[0m\n\u001b[0;32m----> 2\u001b[0;31m build_plot(Ns, [np.amax(np.abs(get_u_vector_tridiagonal_algo_solver(N) - get_u_vector(N))) for N in Ns], \n\u001b[0m\u001b[1;32m      3\u001b[0m            'N', 'Погрешность', 'Зависимость погрешности от N')\n",
      "\u001b[0;32m<ipython-input-52-de2e8f9c4734>\u001b[0m in \u001b[0;36mget_u_vector_tridiagonal_algo_solver\u001b[0;34m(N)\u001b[0m\n\u001b[1;32m      5\u001b[0m     \u001b[0mc\u001b[0m \u001b[0;34m=\u001b[0m \u001b[0;34m[\u001b[0m\u001b[0;36m2\u001b[0m \u001b[0;34m*\u001b[0m \u001b[0mh\u001b[0m\u001b[0;34m**\u001b[0m\u001b[0;34m(\u001b[0m\u001b[0;34m-\u001b[0m\u001b[0;36m2\u001b[0m\u001b[0;34m)\u001b[0m \u001b[0;34m+\u001b[0m \u001b[0;36m1\u001b[0m \u001b[0;32mfor\u001b[0m \u001b[0m_\u001b[0m \u001b[0;32min\u001b[0m \u001b[0mrange\u001b[0m\u001b[0;34m(\u001b[0m\u001b[0mN\u001b[0m\u001b[0;34m)\u001b[0m\u001b[0;34m]\u001b[0m\u001b[0;34m\u001b[0m\u001b[0m\n\u001b[1;32m      6\u001b[0m     \u001b[0md\u001b[0m \u001b[0;34m=\u001b[0m \u001b[0mget_b\u001b[0m\u001b[0;34m(\u001b[0m\u001b[0mN\u001b[0m\u001b[0;34m)\u001b[0m\u001b[0;34m\u001b[0m\u001b[0m\n\u001b[0;32m----> 7\u001b[0;31m     \u001b[0;32mreturn\u001b[0m \u001b[0mnp\u001b[0m\u001b[0;34m.\u001b[0m\u001b[0marray\u001b[0m\u001b[0;34m(\u001b[0m\u001b[0mtridiagonal_algo_solver\u001b[0m\u001b[0;34m(\u001b[0m\u001b[0ma\u001b[0m\u001b[0;34m,\u001b[0m \u001b[0mb\u001b[0m\u001b[0;34m,\u001b[0m \u001b[0mc\u001b[0m\u001b[0;34m,\u001b[0m \u001b[0md\u001b[0m\u001b[0;34m)\u001b[0m\u001b[0;34m)\u001b[0m\u001b[0;34m\u001b[0m\u001b[0m\n\u001b[0m",
      "\u001b[0;32m<ipython-input-50-3bd6e658750e>\u001b[0m in \u001b[0;36mtridiagonal_algo_solver\u001b[0;34m(a, b, c, d)\u001b[0m\n\u001b[1;32m      6\u001b[0m         \u001b[0malphas\u001b[0m\u001b[0;34m.\u001b[0m\u001b[0mappend\u001b[0m\u001b[0;34m(\u001b[0m\u001b[0mb\u001b[0m\u001b[0;34m[\u001b[0m\u001b[0mi\u001b[0m \u001b[0;34m+\u001b[0m \u001b[0;36m1\u001b[0m\u001b[0;34m]\u001b[0m \u001b[0;34m/\u001b[0m \u001b[0;34m(\u001b[0m\u001b[0mc\u001b[0m\u001b[0;34m[\u001b[0m\u001b[0mi\u001b[0m \u001b[0;34m+\u001b[0m \u001b[0;36m1\u001b[0m\u001b[0;34m]\u001b[0m \u001b[0;34m-\u001b[0m \u001b[0malphas\u001b[0m\u001b[0;34m[\u001b[0m\u001b[0;34m-\u001b[0m\u001b[0;36m1\u001b[0m\u001b[0;34m]\u001b[0m \u001b[0;34m*\u001b[0m \u001b[0ma\u001b[0m\u001b[0;34m[\u001b[0m\u001b[0mi\u001b[0m \u001b[0;34m+\u001b[0m \u001b[0;36m1\u001b[0m\u001b[0;34m]\u001b[0m\u001b[0;34m)\u001b[0m\u001b[0;34m)\u001b[0m\u001b[0;34m\u001b[0m\u001b[0m\n\u001b[1;32m      7\u001b[0m         \u001b[0mbetas\u001b[0m\u001b[0;34m.\u001b[0m\u001b[0mappend\u001b[0m\u001b[0;34m(\u001b[0m\u001b[0;34m(\u001b[0m\u001b[0md\u001b[0m\u001b[0;34m[\u001b[0m\u001b[0mi\u001b[0m \u001b[0;34m+\u001b[0m \u001b[0;36m1\u001b[0m\u001b[0;34m]\u001b[0m \u001b[0;34m+\u001b[0m \u001b[0mbetas\u001b[0m\u001b[0;34m[\u001b[0m\u001b[0;34m-\u001b[0m\u001b[0;36m1\u001b[0m\u001b[0;34m]\u001b[0m \u001b[0;34m*\u001b[0m \u001b[0ma\u001b[0m\u001b[0;34m[\u001b[0m\u001b[0mi\u001b[0m \u001b[0;34m+\u001b[0m \u001b[0;36m1\u001b[0m\u001b[0;34m]\u001b[0m\u001b[0;34m)\u001b[0m \u001b[0;34m/\u001b[0m \u001b[0;34m(\u001b[0m\u001b[0mc\u001b[0m\u001b[0;34m[\u001b[0m\u001b[0mi\u001b[0m \u001b[0;34m+\u001b[0m \u001b[0;36m1\u001b[0m\u001b[0;34m]\u001b[0m \u001b[0;34m-\u001b[0m \u001b[0malphas\u001b[0m\u001b[0;34m[\u001b[0m\u001b[0;34m-\u001b[0m\u001b[0;36m1\u001b[0m\u001b[0;34m]\u001b[0m \u001b[0;34m*\u001b[0m \u001b[0ma\u001b[0m\u001b[0;34m[\u001b[0m\u001b[0mi\u001b[0m \u001b[0;34m+\u001b[0m \u001b[0;36m1\u001b[0m\u001b[0;34m]\u001b[0m\u001b[0;34m)\u001b[0m\u001b[0;34m)\u001b[0m\u001b[0;34m\u001b[0m\u001b[0m\n\u001b[0;32m----> 8\u001b[0;31m     \u001b[0mans\u001b[0m \u001b[0;34m=\u001b[0m \u001b[0;34m[\u001b[0m\u001b[0;36m0\u001b[0m \u001b[0;32mfor\u001b[0m \u001b[0m_\u001b[0m \u001b[0;32min\u001b[0m \u001b[0mN\u001b[0m\u001b[0;34m]\u001b[0m\u001b[0;34m\u001b[0m\u001b[0m\n\u001b[0m\u001b[1;32m      9\u001b[0m     \u001b[0mans\u001b[0m\u001b[0;34m[\u001b[0m\u001b[0mN\u001b[0m \u001b[0;34m-\u001b[0m \u001b[0;36m1\u001b[0m\u001b[0;34m]\u001b[0m \u001b[0;34m=\u001b[0m \u001b[0mbetas\u001b[0m\u001b[0;34m[\u001b[0m\u001b[0;34m-\u001b[0m\u001b[0;36m1\u001b[0m\u001b[0;34m]\u001b[0m\u001b[0;34m\u001b[0m\u001b[0m\n\u001b[1;32m     10\u001b[0m     \u001b[0;32mfor\u001b[0m \u001b[0mi\u001b[0m \u001b[0;32min\u001b[0m \u001b[0mrange\u001b[0m\u001b[0;34m(\u001b[0m\u001b[0mN\u001b[0m \u001b[0;34m-\u001b[0m \u001b[0;36m2\u001b[0m\u001b[0;34m,\u001b[0m \u001b[0;34m-\u001b[0m\u001b[0;36m1\u001b[0m\u001b[0;34m,\u001b[0m \u001b[0;34m-\u001b[0m\u001b[0;36m1\u001b[0m\u001b[0;34m)\u001b[0m\u001b[0;34m:\u001b[0m\u001b[0;34m\u001b[0m\u001b[0m\n",
      "\u001b[0;31mTypeError\u001b[0m: 'int' object is not iterable"
     ]
    }
   ],
   "source": [
    "Ns = range(1, 101)\n",
    "build_plot(Ns, [np.amax(np.abs(get_u_vector_tridiagonal_algo_solver(N) - get_u_vector(N))) for N in Ns], \n",
    "           'N', 'Погрешность', 'Зависимость погрешности от N')"
   ]
  },
  {
   "cell_type": "code",
   "execution_count": null,
   "metadata": {},
   "outputs": [],
   "source": []
  }
 ],
 "metadata": {
  "kernelspec": {
   "display_name": "Python 3",
   "language": "python",
   "name": "python3"
  },
  "language_info": {
   "codemirror_mode": {
    "name": "ipython",
    "version": 3
   },
   "file_extension": ".py",
   "mimetype": "text/x-python",
   "name": "python",
   "nbconvert_exporter": "python",
   "pygments_lexer": "ipython3",
   "version": "3.5.2"
  }
 },
 "nbformat": 4,
 "nbformat_minor": 2
}
